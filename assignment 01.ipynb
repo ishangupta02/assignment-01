{
 "cells": [
  {
   "cell_type": "code",
   "execution_count": null,
   "id": "005482bd",
   "metadata": {},
   "outputs": [],
   "source": [
    "# 1. find out all the types of error that we have encoutnter in our lecture and why? Also include the examples"
   ]
  },
  {
   "cell_type": "code",
   "execution_count": null,
   "id": "05ee4bcc",
   "metadata": {},
   "outputs": [],
   "source": [
    "A = 45\n",
    "B= 67\n",
    "\n",
    "print(a)    #we have to use apostrophes\"\" to print the variable"
   ]
  },
  {
   "cell_type": "code",
   "execution_count": null,
   "id": "639cd3a4",
   "metadata": {},
   "outputs": [],
   "source": []
  },
  {
   "cell_type": "code",
   "execution_count": null,
   "id": "d0be17bd",
   "metadata": {},
   "outputs": [],
   "source": [
    "#2. Take input A and B and print their sm, mul, div, square of the numbers"
   ]
  },
  {
   "cell_type": "code",
   "execution_count": null,
   "id": "0d600700",
   "metadata": {},
   "outputs": [],
   "source": [
    "A = 45\n",
    "B = 67\n",
    "\n",
    "print(f\"sum of A and B is: {A+B}\")\n",
    "print(f\"multiplication of A and B is: {A*B}\")\n",
    "print(f\"division of A and B is: {A/B}\")\n",
    "print(f\"square of A and B is: {A**B}\")"
   ]
  },
  {
   "cell_type": "code",
   "execution_count": null,
   "id": "00d5f0ca",
   "metadata": {},
   "outputs": [],
   "source": []
  },
  {
   "cell_type": "code",
   "execution_count": null,
   "id": "1a2490f0",
   "metadata": {},
   "outputs": [],
   "source": [
    "#3. How many reserve keywords are there in python and why we should not use them as a variable name."
   ]
  },
  {
   "cell_type": "code",
   "execution_count": null,
   "id": "75c4e25e",
   "metadata": {},
   "outputs": [],
   "source": [
    "#There are only 33 reserve keywords in python.\n",
    "#We shouldn't use those as variable name because if I will use those words as variable, then those might revert in the data type of the variable, and for future use of those variable as keywords, will through an error."
   ]
  },
  {
   "cell_type": "code",
   "execution_count": null,
   "id": "2eb05a3c",
   "metadata": {},
   "outputs": [],
   "source": []
  },
  {
   "cell_type": "code",
   "execution_count": null,
   "id": "af7cbadb",
   "metadata": {},
   "outputs": [],
   "source": [
    "#4. Create email ids with the user inputs. in the following format - lastname.firstname@gmail.com"
   ]
  },
  {
   "cell_type": "code",
   "execution_count": null,
   "id": "df97cf35",
   "metadata": {},
   "outputs": [],
   "source": []
  },
  {
   "cell_type": "code",
   "execution_count": 8,
   "id": "1f05a7a4",
   "metadata": {
    "scrolled": true
   },
   "outputs": [
    {
     "name": "stdout",
     "output_type": "stream",
     "text": [
      "enter the first name: ishan\n",
      "enter the second name: gupta\n",
      "the user email id is: gupta.ishan@gmail.com\n"
     ]
    }
   ],
   "source": [
    "\n",
    "first_name= input(\"enter the first name: \")\n",
    "last_name= input(\"enter the second name: \")\n",
    "\n",
    "print(f\"the user email id is: {last_name}.{first_name}@gmail.com\")"
   ]
  },
  {
   "cell_type": "code",
   "execution_count": null,
   "id": "8247435f",
   "metadata": {},
   "outputs": [],
   "source": []
  },
  {
   "cell_type": "code",
   "execution_count": null,
   "id": "1555f6d1",
   "metadata": {},
   "outputs": [],
   "source": [
    "#5. Try to print the following lines -\n",
    "#Hi I'm Sunny\n",
    "#My address is 22\\3\n",
    "#I earn 20$ daily."
   ]
  },
  {
   "cell_type": "code",
   "execution_count": null,
   "id": "73cf51ba",
   "metadata": {},
   "outputs": [],
   "source": [
    "a=\"Hi I'm Sunny\"\n",
    "b=\"My address is22/3\"\n",
    "c= \"I earn 20$ daily\"\n",
    "\n",
    "print(f\"the 1st line is:{a}\")\n",
    "print(f\"the 2nd line is:{b}\")\n",
    "print(f\"the 3rd line is:{c}\")"
   ]
  },
  {
   "cell_type": "code",
   "execution_count": null,
   "id": "162f3197",
   "metadata": {},
   "outputs": [],
   "source": []
  },
  {
   "cell_type": "code",
   "execution_count": null,
   "id": "4eaa661b",
   "metadata": {},
   "outputs": [],
   "source": [
    "#6. Take user input (name, address, date of birth etc) to fill a form for your college and print their email IDs"
   ]
  },
  {
   "cell_type": "code",
   "execution_count": null,
   "id": "3f1f70a5",
   "metadata": {},
   "outputs": [],
   "source": []
  },
  {
   "cell_type": "code",
   "execution_count": 7,
   "id": "a9673ba4",
   "metadata": {},
   "outputs": [
    {
     "name": "stdout",
     "output_type": "stream",
     "text": [
      "enter your first name ishan\n",
      "enter your last name gupta\n",
      "enter your address Himachal\n",
      "enter your date of birth 1999\n"
     ]
    }
   ],
   "source": [
    "first_name= input(\"enter your first name \")\n",
    "last_name= input(\"enter your last name \")\n",
    "address = input(\"enter your address \")\n",
    "date_of_birth = input(\"enter your date of birth \")\n",
    "\n"
   ]
  },
  {
   "cell_type": "code",
   "execution_count": null,
   "id": "aedce054",
   "metadata": {},
   "outputs": [],
   "source": []
  },
  {
   "cell_type": "code",
   "execution_count": null,
   "id": "8dbc128c",
   "metadata": {},
   "outputs": [],
   "source": [
    "#7. Convert the following - \"22.4\" into integer ,\"22\" into complex no\n"
   ]
  },
  {
   "cell_type": "code",
   "execution_count": 14,
   "id": "dfeb8468",
   "metadata": {},
   "outputs": [
    {
     "name": "stdout",
     "output_type": "stream",
     "text": [
      "the given number is:<class 'float'>, value of x:22.4\n",
      "the output is:22\n"
     ]
    }
   ],
   "source": [
    "x = 22.4\n",
    "print(f\"the given number is:{type(x)}, value of x:{x}\")\n",
    "x = int(x)\n",
    "print(f\"the output is:{x}\")"
   ]
  },
  {
   "cell_type": "code",
   "execution_count": null,
   "id": "d85a04cc",
   "metadata": {},
   "outputs": [],
   "source": []
  },
  {
   "cell_type": "code",
   "execution_count": 16,
   "id": "93ec20af",
   "metadata": {},
   "outputs": [
    {
     "name": "stdout",
     "output_type": "stream",
     "text": [
      "the given number is:<class 'int'>, value of x:22\n",
      "the output is:True\n"
     ]
    }
   ],
   "source": [
    "x = 22\n",
    "print(f\"the given number is:{type(x)}, value of x:{x}\")\n",
    "x= bool(x)\n",
    "print(f\"the output is:{x}\")"
   ]
  },
  {
   "cell_type": "code",
   "execution_count": 1,
   "id": "04f44ff3",
   "metadata": {},
   "outputs": [],
   "source": []
  },
  {
   "cell_type": "code",
   "execution_count": null,
   "id": "735076ee",
   "metadata": {},
   "outputs": [],
   "source": []
  },
  {
   "cell_type": "code",
   "execution_count": null,
   "id": "a0d579f3",
   "metadata": {},
   "outputs": [],
   "source": []
  },
  {
   "cell_type": "code",
   "execution_count": null,
   "id": "4ae87f9e",
   "metadata": {},
   "outputs": [],
   "source": []
  },
  {
   "cell_type": "code",
   "execution_count": null,
   "id": "568529d9",
   "metadata": {},
   "outputs": [],
   "source": []
  },
  {
   "cell_type": "code",
   "execution_count": null,
   "id": "72b3e5a9",
   "metadata": {},
   "outputs": [],
   "source": []
  },
  {
   "cell_type": "code",
   "execution_count": null,
   "id": "f1497b69",
   "metadata": {},
   "outputs": [],
   "source": []
  }
 ],
 "metadata": {
  "kernelspec": {
   "display_name": "Python 3 (ipykernel)",
   "language": "python",
   "name": "python3"
  },
  "language_info": {
   "codemirror_mode": {
    "name": "ipython",
    "version": 3
   },
   "file_extension": ".py",
   "mimetype": "text/x-python",
   "name": "python",
   "nbconvert_exporter": "python",
   "pygments_lexer": "ipython3",
   "version": "3.9.12"
  }
 },
 "nbformat": 4,
 "nbformat_minor": 5
}
